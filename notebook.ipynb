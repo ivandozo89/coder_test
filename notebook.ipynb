{
 "cells": [
  {
   "cell_type": "code",
   "execution_count": 34,
   "id": "2cedaf0d",
   "metadata": {},
   "outputs": [],
   "source": [
    "import pandas as pd\n",
    "from datetime import datetime, timedelta\n",
    "\n",
    "# Adds 8 hours to timestamp (for GMT-8 tz) to make GMT time. Replace with your offset from GMT.\n",
    "TZ_ADJ = 8\n",
    "\n",
    "data_path = './data.csv'"
   ]
  },
  {
   "cell_type": "code",
   "execution_count": 35,
   "id": "42f4ac0d",
   "metadata": {},
   "outputs": [],
   "source": [
    "def rsi(df, periods=14):\n",
    "    \"\"\"\n",
    "    Returns a pd.Series with the relative strength index.\n",
    "    From https://www.roelpeters.be/many-ways-to-calculate-the-rsi-in-python-pandas/\n",
    "    \"\"\"\n",
    "    close_delta = df['close'].diff()\n",
    "\n",
    "    # Make two series: one for lower closes and one for higher closes\n",
    "    up = close_delta.clip(lower=0)\n",
    "    down = -1 * close_delta.clip(upper=0)\n",
    "    \n",
    "    # Use exponential moving average\n",
    "    ma_up = up.ewm(com=periods-1, adjust=True, min_periods=periods).mean()\n",
    "    ma_down = down.ewm(com=periods-1, adjust=True, min_periods=periods).mean()\n",
    "        \n",
    "    rsi = ma_up / ma_down\n",
    "    rsi = 100 - (100/(1 + rsi))\n",
    "    return rsi"
   ]
  },
  {
   "cell_type": "code",
   "execution_count": 37,
   "id": "2daec240",
   "metadata": {},
   "outputs": [],
   "source": [
    "data = pd.read_csv(data_path)\n",
    "\n",
    "# adjusting from GMT-8 local tz\n",
    "data['time'] = data['time'].apply(lambda x: datetime.fromtimestamp(x) + timedelta(seconds=60*60*TZ_ADJ))\n",
    "\n",
    "data['rsi'] = rsi(data)"
   ]
  },
  {
   "cell_type": "code",
   "execution_count": 38,
   "id": "f905f410",
   "metadata": {},
   "outputs": [],
   "source": [
    "# Find where RSI goes below 30 or above 70, and then retracts on the next bar. \n",
    "# Using the close of that bar as the entry, what is the MAE and MFE of the next 4 bars? \n"
   ]
  },
  {
   "cell_type": "code",
   "execution_count": null,
   "id": "4fb36ea6",
   "metadata": {},
   "outputs": [],
   "source": []
  }
 ],
 "metadata": {
  "kernelspec": {
   "display_name": "Python 3 (ipykernel)",
   "language": "python",
   "name": "python3"
  },
  "language_info": {
   "codemirror_mode": {
    "name": "ipython",
    "version": 3
   },
   "file_extension": ".py",
   "mimetype": "text/x-python",
   "name": "python",
   "nbconvert_exporter": "python",
   "pygments_lexer": "ipython3",
   "version": "3.9.7"
  }
 },
 "nbformat": 4,
 "nbformat_minor": 5
}
